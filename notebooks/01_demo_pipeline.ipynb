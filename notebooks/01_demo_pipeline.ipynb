{
 "cells": [
  {
   "cell_type": "markdown",
   "id": "2b1186b9",
   "metadata": {},
   "source": [
    "# 2-Minute Demo Notebook\n",
    "\n",
    "**AI-assisted, human-reviewed.**\n",
    "\n",
    "Steps:\n",
    "1. Generate synthetic data\n",
    "2. Load + featureize\n",
    "3. Compute a simple score\n"
   ]
  },
  {
   "cell_type": "code",
   "execution_count": null,
   "id": "7b8987f5",
   "metadata": {},
   "outputs": [],
   "source": [
    "import sys, importlib.util\n",
    "from pathlib import Path\n",
    "\n",
    "# Figure out the repo ROOT (folder that contains /src and /scripts)\n",
    "CWD = Path.cwd()\n",
    "if (CWD / \"src\").exists() and (CWD / \"scripts\").exists():\n",
    "    ROOT = CWD\n",
    "elif CWD.name.lower() == \"notebooks\" and (CWD.parent / \"src\").exists():\n",
    "    ROOT = CWD.parent\n",
    "else:\n",
    "    ROOT = next(p for p in CWD.parents if (p / \"src\").exists() and (p / \"scripts\").exists())\n",
    "\n",
    "# Ensure we can import from src/\n",
    "if str(ROOT) not in sys.path:\n",
    "    sys.path.insert(0, str(ROOT))\n",
    "\n",
    "# Import the generator module from scripts/ and run it with an absolute path\n",
    "gen_path = ROOT / \"scripts\" / \"generate_synthetic_data.py\"\n",
    "spec = importlib.util.spec_from_file_location(\"gen_data_mod\", gen_path)\n",
    "gen_mod = importlib.util.module_from_spec(spec)\n",
    "spec.loader.exec_module(gen_mod)\n",
    "\n",
    "data_path = ROOT / \"data\" / \"synthetic_customers.csv\"\n",
    "gen_mod.main(path=str(data_path), n=1000)  # creates folder if missing\n",
    "print(\"Data generated at:\", data_path)"
   ]
  },
  {
   "cell_type": "code",
   "execution_count": null,
   "id": "6c294657",
   "metadata": {},
   "outputs": [],
   "source": [
    "# Cell 2 — Load & run pipeline using absolute path\n",
    "import sys\n",
    "from pathlib import Path\n",
    "from src.pipeline import load, featureize, simple_score\n",
    "\n",
    "# Recompute ROOT in case user ran this cell standalone\n",
    "CWD = Path.cwd()\n",
    "if (CWD / \"src\").exists() and (CWD / \"scripts\").exists():\n",
    "    ROOT = CWD\n",
    "elif CWD.name.lower() == \"notebooks\" and (CWD.parent / \"src\").exists():\n",
    "    ROOT = CWD.parent\n",
    "else:\n",
    "    ROOT = next(p for p in CWD.parents if (p / \"src\").exists() and (p / \"scripts\").exists())\n",
    "\n",
    "csv_path = (ROOT / \"data\" / \"synthetic_customers.csv\").resolve()\n",
    "print(\"Expecting CSV at:\", csv_path)\n",
    "\n",
    "if not csv_path.exists():\n",
    "    # If the file isn't there, (re)generate it using the same mechanism from cell 1\n",
    "    import importlib.util\n",
    "    gen_path = ROOT / \"scripts\" / \"generate_synthetic_data.py\"\n",
    "    spec = importlib.util.spec_from_file_location(\"gen_data_mod\", gen_path)\n",
    "    gen_mod = importlib.util.module_from_spec(spec)\n",
    "    spec.loader.exec_module(gen_mod)\n",
    "    gen_mod.main(path=str(csv_path), n=1000)\n",
    "    print(\"Re-generated CSV at:\", csv_path)\n",
    "\n",
    "df = load(csv_path)             \n",
    "df2 = featureize(df)\n",
    "df3 = simple_score(df2)\n",
    "df3.head()"
   ]
  },
  {
   "cell_type": "code",
   "execution_count": null,
   "id": "3f5aba48-dd2c-4818-b43d-93a132adaa77",
   "metadata": {},
   "outputs": [],
   "source": []
  }
 ],
 "metadata": {
  "kernelspec": {
   "display_name": "Python (neil-venv)",
   "language": "python",
   "name": "neil-venv"
  },
  "language_info": {
   "codemirror_mode": {
    "name": "ipython",
    "version": 3
   },
   "file_extension": ".py",
   "mimetype": "text/x-python",
   "name": "python",
   "nbconvert_exporter": "python",
   "pygments_lexer": "ipython3",
   "version": "3.13.7"
  }
 },
 "nbformat": 4,
 "nbformat_minor": 5
}
