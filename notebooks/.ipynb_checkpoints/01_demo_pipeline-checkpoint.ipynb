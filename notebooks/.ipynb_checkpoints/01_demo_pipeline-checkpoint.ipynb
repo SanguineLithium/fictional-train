{
 "cells": [
  {
   "cell_type": "markdown",
   "id": "2b1186b9",
   "metadata": {},
   "source": [
    "# 2-Minute Demo Notebook\n",
    "\n",
    "**AI-assisted, human-reviewed.**\n",
    "\n",
    "Steps:\n",
    "1. Generate synthetic data\n",
    "2. Load + featureize\n",
    "3. Compute a simple score\n"
   ]
  },
  {
   "cell_type": "code",
   "execution_count": 1,
   "id": "7b8987f5",
   "metadata": {},
   "outputs": [
    {
     "ename": "CalledProcessError",
     "evalue": "Command '['C:\\\\Users\\\\Neil\\\\fictional-train\\\\.venv\\\\Scripts\\\\python.exe', 'C:\\\\Users\\\\Neil\\\\fictional-train\\\\scripts\\\\generate_synthetic_data.py']' returned non-zero exit status 1.",
     "output_type": "error",
     "traceback": [
      "\u001b[31m---------------------------------------------------------------------------\u001b[39m",
      "\u001b[31mCalledProcessError\u001b[39m                        Traceback (most recent call last)",
      "\u001b[36mCell\u001b[39m\u001b[36m \u001b[39m\u001b[32mIn[1]\u001b[39m\u001b[32m, line 20\u001b[39m\n\u001b[32m     17\u001b[39m     sys.path.insert(\u001b[32m0\u001b[39m, \u001b[38;5;28mstr\u001b[39m(ROOT))\n\u001b[32m     19\u001b[39m \u001b[38;5;66;03m# Generate synthetic data via Python (no shell path issues)\u001b[39;00m\n\u001b[32m---> \u001b[39m\u001b[32m20\u001b[39m \u001b[43msubprocess\u001b[49m\u001b[43m.\u001b[49m\u001b[43mrun\u001b[49m\u001b[43m(\u001b[49m\u001b[43m[\u001b[49m\u001b[43msys\u001b[49m\u001b[43m.\u001b[49m\u001b[43mexecutable\u001b[49m\u001b[43m,\u001b[49m\u001b[43m \u001b[49m\u001b[38;5;28;43mstr\u001b[39;49m\u001b[43m(\u001b[49m\u001b[43mROOT\u001b[49m\u001b[43m \u001b[49m\u001b[43m/\u001b[49m\u001b[43m \u001b[49m\u001b[33;43m\"\u001b[39;49m\u001b[33;43mscripts\u001b[39;49m\u001b[33;43m\"\u001b[39;49m\u001b[43m \u001b[49m\u001b[43m/\u001b[49m\u001b[43m \u001b[49m\u001b[33;43m\"\u001b[39;49m\u001b[33;43mgenerate_synthetic_data.py\u001b[39;49m\u001b[33;43m\"\u001b[39;49m\u001b[43m)\u001b[49m\u001b[43m]\u001b[49m\u001b[43m,\u001b[49m\u001b[43m \u001b[49m\u001b[43mcheck\u001b[49m\u001b[43m=\u001b[49m\u001b[38;5;28;43;01mTrue\u001b[39;49;00m\u001b[43m)\u001b[49m\n\u001b[32m     21\u001b[39m \u001b[38;5;28mprint\u001b[39m(\u001b[33m\"\u001b[39m\u001b[33mData generated at:\u001b[39m\u001b[33m\"\u001b[39m, ROOT / \u001b[33m\"\u001b[39m\u001b[33mdata\u001b[39m\u001b[33m\"\u001b[39m / \u001b[33m\"\u001b[39m\u001b[33msynthetic_customers.csv\u001b[39m\u001b[33m\"\u001b[39m)\n",
      "\u001b[36mFile \u001b[39m\u001b[32mC:\\Program Files\\WindowsApps\\PythonSoftwareFoundation.Python.3.13_3.13.2032.0_x64__qbz5n2kfra8p0\\Lib\\subprocess.py:577\u001b[39m, in \u001b[36mrun\u001b[39m\u001b[34m(input, capture_output, timeout, check, *popenargs, **kwargs)\u001b[39m\n\u001b[32m    575\u001b[39m     retcode = process.poll()\n\u001b[32m    576\u001b[39m     \u001b[38;5;28;01mif\u001b[39;00m check \u001b[38;5;129;01mand\u001b[39;00m retcode:\n\u001b[32m--> \u001b[39m\u001b[32m577\u001b[39m         \u001b[38;5;28;01mraise\u001b[39;00m CalledProcessError(retcode, process.args,\n\u001b[32m    578\u001b[39m                                  output=stdout, stderr=stderr)\n\u001b[32m    579\u001b[39m \u001b[38;5;28;01mreturn\u001b[39;00m CompletedProcess(process.args, retcode, stdout, stderr)\n",
      "\u001b[31mCalledProcessError\u001b[39m: Command '['C:\\\\Users\\\\Neil\\\\fictional-train\\\\.venv\\\\Scripts\\\\python.exe', 'C:\\\\Users\\\\Neil\\\\fictional-train\\\\scripts\\\\generate_synthetic_data.py']' returned non-zero exit status 1."
     ]
    }
   ],
   "source": [
    "# Make paths robust no matter where Jupyter launched from\n",
    "import sys, subprocess\n",
    "from pathlib import Path\n",
    "\n",
    "# Detect repo root whether we're in /, /notebooks, or elsewhere\n",
    "CWD = Path.cwd()\n",
    "if CWD.name.lower() == \"notebooks\":\n",
    "    ROOT = CWD.parent\n",
    "elif (CWD / \"src\").exists() and (CWD / \"scripts\").exists():\n",
    "    ROOT = CWD\n",
    "else:\n",
    "    # Walk up to find a folder that has /src and /scripts\n",
    "    ROOT = next(p for p in CWD.parents if (p / \"src\").exists() and (p / \"scripts\").exists())\n",
    "\n",
    "# Ensure we can import from src/\n",
    "if str(ROOT) not in sys.path:\n",
    "    sys.path.insert(0, str(ROOT))\n",
    "\n",
    "# Generate synthetic data via Python (no shell path issues)\n",
    "subprocess.run([sys.executable, str(ROOT / \"scripts\" / \"generate_synthetic_data.py\")], check=True)\n",
    "print(\"Data generated at:\", ROOT / \"data\" / \"synthetic_customers.csv\")"
   ]
  },
  {
   "cell_type": "code",
   "execution_count": null,
   "id": "6c294657",
   "metadata": {},
   "outputs": [],
   "source": [
    "from pathlib import Path\n",
    "import pandas as pd\n",
    "from src.pipeline import load, featureize, simple_score\n",
    "\n",
    "df = load(Path(\"data\") / \"synthetic_customers.csv\")\n",
    "df2 = featureize(df)\n",
    "df3 = simple_score(df2)\n",
    "df3.head()"
   ]
  }
 ],
 "metadata": {
  "kernelspec": {
   "display_name": "Python 3 (ipykernel)",
   "language": "python",
   "name": "python3"
  },
  "language_info": {
   "codemirror_mode": {
    "name": "ipython",
    "version": 3
   },
   "file_extension": ".py",
   "mimetype": "text/x-python",
   "name": "python",
   "nbconvert_exporter": "python",
   "pygments_lexer": "ipython3",
   "version": "3.13.7"
  }
 },
 "nbformat": 4,
 "nbformat_minor": 5
}
